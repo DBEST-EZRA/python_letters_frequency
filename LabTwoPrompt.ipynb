{
 "cells": [
  {
   "cell_type": "code",
   "execution_count": 1,
   "id": "dc6aa24e-fd6f-4ba9-9fdf-981a423aedc7",
   "metadata": {},
   "outputs": [],
   "source": [
    "def letter_frequency(message):\n",
    "\n",
    "    letters_frequency = {}\n",
    "\n",
    "    if not message:\n",
    "        return letters_frequency\n",
    "\n",
    "    for letter in message:\n",
    "        if letter.isalpha():\n",
    "            letter = letter.lower()\n",
    "            if letter in letters_frequency:\n",
    "                letters_frequency[letter] += 1\n",
    "            else:\n",
    "                letters_frequency[letter] = 1\n",
    "\n",
    "    return letters_frequency"
   ]
  },
  {
   "cell_type": "code",
   "execution_count": 2,
   "id": "80cedd51-85d3-4a2c-8cee-1cc04171ec21",
   "metadata": {},
   "outputs": [],
   "source": [
    "def display_frequency(frequency):\n",
    "\n",
    "    if not frequency:\n",
    "        print(\"Your message has no letters!\")\n",
    "        return\n",
    "\n",
    "    sorted_alphabets = dict(sorted(frequency.items()))\n",
    "\n",
    "    print(\"Letter Frequencies:\")\n",
    "    for letter, count in sorted_alphabets.items():\n",
    "        print(f\"{letter}: {count}\")"
   ]
  },
  {
   "cell_type": "code",
   "execution_count": 3,
   "id": "47378bb0-6b58-4a21-8a86-c32409eafc8c",
   "metadata": {},
   "outputs": [
    {
     "name": "stdin",
     "output_type": "stream",
     "text": [
      "Input your message  I am a chosen one\n"
     ]
    },
    {
     "name": "stdout",
     "output_type": "stream",
     "text": [
      "Letter Frequencies:\n",
      "a: 2\n",
      "c: 1\n",
      "e: 2\n",
      "h: 1\n",
      "i: 1\n",
      "m: 1\n",
      "n: 2\n",
      "o: 2\n",
      "s: 1\n"
     ]
    },
    {
     "name": "stdin",
     "output_type": "stream",
     "text": [
      "Do you want to analyze another message? (yes/no):  no\n"
     ]
    },
    {
     "name": "stdout",
     "output_type": "stream",
     "text": [
      "Program exitted successfully\n"
     ]
    }
   ],
   "source": [
    "def main():\n",
    "\n",
    "    while True:\n",
    "        input_message = input(\"Input your message \").strip()\n",
    "\n",
    "        if not input_message:\n",
    "            print(\"The message field cannot be submitted blank!\")\n",
    "            continue\n",
    "\n",
    "        frequency_count = letter_frequency(input_message)\n",
    "        display_frequency(frequency_count)\n",
    "\n",
    "        submit_another = input(\"Do you want to analyze another message? (yes/no): \").lower().strip()\n",
    "        if submit_another == \"no\":\n",
    "            print(\"Program exitted successfully\")\n",
    "            break\n",
    "        elif submit_another == \"yes\":\n",
    "            continue\n",
    "        else:\n",
    "            print(\"Your choice is invalid\")\n",
    "\n",
    "main()"
   ]
  },
  {
   "cell_type": "code",
   "execution_count": null,
   "id": "9d460989-4331-4ff4-badc-51e5eaea1a96",
   "metadata": {},
   "outputs": [],
   "source": [
    "import unittest\n",
    "from unittest.mock import patch\n",
    "from io import StringIO\n",
    "import sys\n",
    "\n",
    "class TestLetterFrequency(unittest.TestCase):\n",
    "\n",
    "    def test_letter_frequency_basic(self):\n",
    "        result = letter_frequency(\"Hello\")\n",
    "        expected = {'h': 1, 'e': 1, 'l': 2, 'o': 1}\n",
    "        self.assertEqual(result, expected)\n",
    "\n",
    "    def test_letter_frequency_with_numbers(self):\n",
    "        result = letter_frequency(\"H3ll0\")\n",
    "        expected = {'h': 1, 'l': 2}\n",
    "        self.assertEqual(result, expected)\n",
    "\n",
    "    def test_letter_frequency_empty_string(self):\n",
    "        result = letter_frequency(\"\")\n",
    "        expected = {}\n",
    "        self.assertEqual(result, expected)\n",
    "\n",
    "    def test_letter_frequency_special_characters(self):\n",
    "        result = letter_frequency(\"Hello, World!\")\n",
    "        expected = {'h': 1, 'e': 1, 'l': 3, 'o': 2, 'w': 1, 'r': 1, 'd': 1}\n",
    "        self.assertEqual(result, expected)\n",
    "\n",
    "    @patch('sys.stdout', new_callable=StringIO)\n",
    "    def test_display_frequency(self, mock_stdout):\n",
    "        frequency = {'h': 1, 'e': 1, 'l': 2, 'o': 1}\n",
    "        display_frequency(frequency)\n",
    "        output = mock_stdout.getvalue().strip()\n",
    "        expected_output = \"Letter Frequencies:\\nh: 1\\ne: 1\\nl: 2\\no: 1\"\n",
    "        self.assertEqual(output, expected_output)\n",
    "\n",
    "    @patch('sys.stdout', new_callable=StringIO)\n",
    "    def test_display_frequency_empty(self, mock_stdout):\n",
    "        frequency = {}\n",
    "        display_frequency(frequency)\n",
    "        output = mock_stdout.getvalue().strip()\n",
    "        expected_output = \"Your message has no letters!\"\n",
    "        self.assertEqual(output, expected_output)\n",
    "\n",
    "    @patch('builtins.input', side_effect=[\"Hello, World!\", \"\"])\n",
    "    @patch('sys.stdout', new_callable=StringIO)\n",
    "    def test_main_function(self, mock_stdout, mock_input):\n",
    "        main()\n",
    "        output = mock_stdout.getvalue().strip().split('\\n')\n",
    "        self.assertIn(\"The message field cannot be submitted blank!\", output)\n",
    "        self.assertIn(\"Letter Frequencies:\", output)\n",
    "\n",
    "if __name__ == '__main__':\n",
    "    unittest.main()\n"
   ]
  }
 ],
 "metadata": {
  "kernelspec": {
   "display_name": "Python 3 (ipykernel)",
   "language": "python",
   "name": "python3"
  },
  "language_info": {
   "codemirror_mode": {
    "name": "ipython",
    "version": 3
   },
   "file_extension": ".py",
   "mimetype": "text/x-python",
   "name": "python",
   "nbconvert_exporter": "python",
   "pygments_lexer": "ipython3",
   "version": "3.11.1"
  }
 },
 "nbformat": 4,
 "nbformat_minor": 5
}
