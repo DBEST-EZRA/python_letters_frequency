{
 "cells": [
  {
   "cell_type": "markdown",
   "id": "b1f0279e-f8af-4079-af42-ac6bad50bfb8",
   "metadata": {},
   "source": [
    "## INSTRUCTIONS - IMPORTANT:\n",
    "\n",
    "Every student is expected to submit their own, original solutions for this assignment. While collaborative discussions among classmates are encouraged for better understanding, it is crucial that the work you submit is your own. Copying or replicating someone else's solutions is a breach of academic integrity and will not be tolerated. The use of **AI tools** is also **prohibited** for this assignment."
   ]
  },
  {
   "cell_type": "markdown",
   "id": "1596d825",
   "metadata": {},
   "source": [
    "The dataset used in this assignment is derived from Inside Airbnb, available [here](http://data.insideairbnb.com/the-netherlands/north-holland/amsterdam/2023-06-05/visualisations/listings.csv). It is licensed under a [Creative Commons Attribution 4.0 International License](https://creativecommons.org/licenses/by/4.0/).\n",
    "\n",
    "**Please note that this dataset has been modified and adapted for the scope of this academic assignment. If you are interested in the original data or further Airbnb datasets, we encourage you to visit Inside Airbnb's website: [insideairbnb.com](http://insideairbnb.com).**\n"
   ]
  },
  {
   "cell_type": "markdown",
   "id": "8b607200-74f5-436a-95e1-b3d9d8f0518f",
   "metadata": {},
   "source": [
    "<h3> This assignment is divided into two main components: </h3>\n",
    "\n",
    "1. **Data Manipulation**: Focused on cleaning and preparing the dataset.\n",
    "2. **Exploratory Data Analysis (EDA)**: Concentrated on analyzing and interpreting the data."
   ]
  },
  {
   "cell_type": "markdown",
   "id": "f2900ce9",
   "metadata": {},
   "source": [
    "# PART-1 (Data Cleaning and Manipulation)\n",
    "\n",
    "We will begin by importing the required modules and reading the data file."
   ]
  },
  {
   "cell_type": "code",
   "execution_count": null,
   "id": "82a7ff87-b67e-4670-83b6-5725b6abea96",
   "metadata": {
    "tags": []
   },
   "outputs": [],
   "source": [
    "import numpy as np\n",
    "from sklearn.datasets import load_iris\n",
    "from sklearn import preprocessing\n",
    "import pandas as pd\n",
    "import seaborn as sns\n",
    "from scipy import stats\n",
    "import matplotlib.pyplot as plt\n",
    "%matplotlib inline"
   ]
  },
  {
   "cell_type": "code",
   "execution_count": null,
   "id": "3e33b6df-3ad0-418e-8088-958ddd75adb3",
   "metadata": {
    "tags": []
   },
   "outputs": [],
   "source": [
    "df = pd.read_csv(\"airbnb_final.csv\")"
   ]
  },
  {
   "cell_type": "code",
   "execution_count": null,
   "id": "ab68d38f-2401-44b3-b8a8-fefb50045393",
   "metadata": {
    "tags": []
   },
   "outputs": [],
   "source": [
    "df.head()"
   ]
  },
  {
   "cell_type": "markdown",
   "id": "c065dce8",
   "metadata": {},
   "source": [
    "### 1.1. **What is the shape of the dataset?**"
   ]
  },
  {
   "cell_type": "code",
   "execution_count": null,
   "id": "24dcb753-4172-43d8-b484-081f9ebbbaa2",
   "metadata": {
    "tags": []
   },
   "outputs": [],
   "source": [
    "#Code goes here\n"
   ]
  },
  {
   "cell_type": "markdown",
   "id": "53955378",
   "metadata": {},
   "source": [
    "### 1.2 **Identify the data types of each column. Are there any columns that need type conversion?**"
   ]
  },
  {
   "cell_type": "code",
   "execution_count": null,
   "id": "26c488ac-4992-4e8f-b3bb-e31ce5373c20",
   "metadata": {
    "tags": []
   },
   "outputs": [],
   "source": [
    "# 1.2.1 Code to identify data types goes here.\n"
   ]
  },
  {
   "cell_type": "raw",
   "id": "32fcd176-c3ba-4b11-b599-1443f4bfde7f",
   "metadata": {},
   "source": [
    "1.2.2 List the columns that need their type changed.\n"
   ]
  },
  {
   "cell_type": "code",
   "execution_count": null,
   "id": "5fd686a9-b4f8-49af-8b1c-0423374cdbbc",
   "metadata": {
    "tags": []
   },
   "outputs": [],
   "source": [
    "# 1.2.3 change the host_id column to an integer \n"
   ]
  },
  {
   "cell_type": "markdown",
   "id": "7684276b",
   "metadata": {},
   "source": [
    "### 1.3. **Are there any duplicate rows in the dataset? If yes, how would you handle them?**"
   ]
  },
  {
   "cell_type": "code",
   "execution_count": null,
   "id": "c1988573-15f6-47b3-acf9-2e57ac5decaf",
   "metadata": {
    "tags": []
   },
   "outputs": [],
   "source": [
    "# 1.3.1 check for duplicate values\n"
   ]
  },
  {
   "cell_type": "raw",
   "id": "f345e347",
   "metadata": {},
   "source": [
    "1.3.2 How would you handle duplicate rows?\n"
   ]
  },
  {
   "cell_type": "markdown",
   "id": "82b7d3f0",
   "metadata": {},
   "source": [
    "### 1.4. **Check for missing values, How would you handle the missing values in the dataset?**"
   ]
  },
  {
   "cell_type": "code",
   "execution_count": null,
   "id": "40a3d1d9-1d7d-48ed-a30f-70875176eed1",
   "metadata": {
    "tags": []
   },
   "outputs": [],
   "source": [
    "# 1.4.1 check for missing values\n"
   ]
  },
  {
   "cell_type": "raw",
   "id": "b5e13ce7",
   "metadata": {},
   "source": [
    "1.4.2 List some ways you might handle columns with missing values.\n"
   ]
  },
  {
   "cell_type": "code",
   "execution_count": null,
   "id": "1daaf9d4-38d3-4876-b32c-41729b16c03b",
   "metadata": {
    "tags": []
   },
   "outputs": [],
   "source": [
    "# 1.4.3 Populate missing values in the 'price in $' column with the mean.\n"
   ]
  },
  {
   "cell_type": "code",
   "execution_count": null,
   "id": "be21ec60-ba4e-4404-816d-de71c4b9ddd8",
   "metadata": {
    "tags": []
   },
   "outputs": [],
   "source": [
    "# 1.4.4 Verify that there are no more missing values in the 'price in $' column\n"
   ]
  },
  {
   "cell_type": "code",
   "execution_count": null,
   "id": "f1eca599",
   "metadata": {},
   "outputs": [],
   "source": [
    "# 1.4.5 Populate all missing values in the City column with \"Amsterdam\"\n"
   ]
  },
  {
   "cell_type": "code",
   "execution_count": null,
   "id": "f31b257c",
   "metadata": {},
   "outputs": [],
   "source": [
    "# 1.4.6 Verify that there are no more missing values in the 'City' column\n"
   ]
  },
  {
   "cell_type": "code",
   "execution_count": null,
   "id": "ab8e99e2-77ae-49b3-aa38-e0730af0fae5",
   "metadata": {
    "tags": []
   },
   "outputs": [],
   "source": [
    "# 1.4.7 Drop all remaining rows with missing data. Store the result in a new dataframe called df2.\n"
   ]
  },
  {
   "cell_type": "code",
   "execution_count": null,
   "id": "07326fa3-872b-43d5-9e07-d9b291ab4446",
   "metadata": {
    "tags": []
   },
   "outputs": [],
   "source": [
    "df2.head()"
   ]
  },
  {
   "cell_type": "markdown",
   "id": "58d55fe0",
   "metadata": {
    "tags": []
   },
   "source": [
    "### 1.5. Compare the shapes of the original (df) and new (df2) dataframes, and verify there are no missing values in df2."
   ]
  },
  {
   "cell_type": "code",
   "execution_count": null,
   "id": "b6479b85-b098-417a-ab7a-86e49b323b57",
   "metadata": {
    "tags": []
   },
   "outputs": [],
   "source": [
    "# 1.5.1 code to show shapes of old and new dataframes\n"
   ]
  },
  {
   "cell_type": "code",
   "execution_count": null,
   "id": "9af2c0f5-a3b1-46b0-a132-f97b9d4651fb",
   "metadata": {
    "tags": []
   },
   "outputs": [],
   "source": [
    "# 1.5.2 Code to verify no missing values\n"
   ]
  },
  {
   "cell_type": "markdown",
   "id": "ce912f4d",
   "metadata": {},
   "source": [
    "### 1.6. **Drop the 'latitude' and 'longitude' columns. How does it affect the shape of the dataset?**"
   ]
  },
  {
   "cell_type": "markdown",
   "id": "a0cb971d",
   "metadata": {},
   "source": [
    "Note: from here forward, work with the df2 DataFrame."
   ]
  },
  {
   "cell_type": "code",
   "execution_count": null,
   "id": "91c69265-3568-4a97-9e90-15677c70b23e",
   "metadata": {
    "tags": []
   },
   "outputs": [],
   "source": [
    "# 1.6.1 Code goes here\n"
   ]
  },
  {
   "cell_type": "code",
   "execution_count": null,
   "id": "09ea894c",
   "metadata": {},
   "outputs": [],
   "source": [
    "# 1.6.2 Show new shape\n"
   ]
  },
  {
   "cell_type": "markdown",
   "id": "f4b2b687",
   "metadata": {},
   "source": [
    "### 1.7. **List the  unique values in Apartment_type and Bathroom_type**"
   ]
  },
  {
   "cell_type": "code",
   "execution_count": null,
   "id": "af8da01e-d2c6-4b25-a047-4610f6e32fcf",
   "metadata": {
    "tags": []
   },
   "outputs": [],
   "source": [
    "# 1.7.1 Find and list the unique apartment tpyes.\n"
   ]
  },
  {
   "cell_type": "code",
   "execution_count": null,
   "id": "1372613e-f794-4aee-a2da-9dad0b79396d",
   "metadata": {
    "tags": []
   },
   "outputs": [],
   "source": [
    "# 1.7.2 Find and list the unique bathroom types.\n"
   ]
  },
  {
   "cell_type": "markdown",
   "id": "40d69a7d",
   "metadata": {},
   "source": [
    "### 1.8. **Replace the bathroom types (shared and private) with integers (0 and 1).**"
   ]
  },
  {
   "cell_type": "code",
   "execution_count": null,
   "id": "1a99c43d-8dc7-4186-accf-cd2c3fa62e0f",
   "metadata": {
    "tags": []
   },
   "outputs": [],
   "source": [
    "# 1.8.1 Replace the strings with integers\n"
   ]
  },
  {
   "cell_type": "code",
   "execution_count": null,
   "id": "64d6f42b-190e-4c81-82a9-2334322a1a8d",
   "metadata": {
    "scrolled": true,
    "tags": []
   },
   "outputs": [],
   "source": [
    "# 1.8.2 Verify the changes\n"
   ]
  },
  {
   "cell_type": "markdown",
   "id": "f70eef0d-0c39-4a80-bbb9-801fb35b4538",
   "metadata": {},
   "source": [
    "# Part - 2 (Exploratory Data Analysis)"
   ]
  },
  {
   "cell_type": "markdown",
   "id": "a5711bab",
   "metadata": {},
   "source": [
    "Exploratory Data Analysis refers to the critical process of performing initial investigations on data so as to discover patterns, to spot anomalies,to test hypothesis and to check assumptions with the help of summary statistics and graphical representations. "
   ]
  },
  {
   "cell_type": "markdown",
   "id": "01220f3e",
   "metadata": {},
   "source": [
    "### 2.1. **Describe the data.**"
   ]
  },
  {
   "cell_type": "code",
   "execution_count": null,
   "id": "7f8d7c7a-4296-4a57-a75d-1e2cfa99fc45",
   "metadata": {
    "tags": []
   },
   "outputs": [],
   "source": [
    "# Describe data here.\n"
   ]
  },
  {
   "cell_type": "markdown",
   "id": "59440e43",
   "metadata": {},
   "source": [
    "### 2.2. **Identify significant correlations.**"
   ]
  },
  {
   "cell_type": "code",
   "execution_count": null,
   "id": "ae404370-d29f-461a-8d0b-2da26bc852e1",
   "metadata": {
    "tags": []
   },
   "outputs": [],
   "source": [
    "# 2.2.1 Build the correlation matrix\n"
   ]
  },
  {
   "cell_type": "code",
   "execution_count": null,
   "id": "bab48646-0771-4fe3-9535-862ec0df9552",
   "metadata": {
    "tags": []
   },
   "outputs": [],
   "source": [
    "# 2.2.2 Display the correlation matrix as a heatmap\n"
   ]
  },
  {
   "cell_type": "markdown",
   "id": "7a5d8fa4",
   "metadata": {},
   "source": [
    "### 2.3. **Check if is there any multicollinearity.**"
   ]
  },
  {
   "cell_type": "code",
   "execution_count": null,
   "id": "02e7a7e3",
   "metadata": {},
   "outputs": [],
   "source": [
    "#Import the statsmodels tools needed to perform VIF.\n",
    "from statsmodels.stats.outliers_influence import variance_inflation_factor\n",
    "import statsmodels.api as sm"
   ]
  },
  {
   "cell_type": "code",
   "execution_count": null,
   "id": "55e1a55b-cb83-4aa7-88fb-30dccc1cd4a5",
   "metadata": {
    "tags": []
   },
   "outputs": [],
   "source": [
    "# 2.3.1 Select all numerical columns *except* host_id.\n"
   ]
  },
  {
   "cell_type": "code",
   "execution_count": null,
   "id": "d7a0f77d",
   "metadata": {},
   "outputs": [],
   "source": [
    "# 2.3.2 Make sure there are no missing (NaN) values \n"
   ]
  },
  {
   "cell_type": "code",
   "execution_count": null,
   "id": "568b0b76",
   "metadata": {},
   "outputs": [],
   "source": [
    "# 2.3.3 Add a constant column for the VIF calculation\n"
   ]
  },
  {
   "cell_type": "code",
   "execution_count": null,
   "id": "c43aa6c5",
   "metadata": {},
   "outputs": [],
   "source": [
    "# 2.3.4 Calculate the VIF for each of the columns and display the information.(Make E.C.?)\n"
   ]
  },
  {
   "cell_type": "markdown",
   "id": "2a3f9455",
   "metadata": {},
   "source": [
    "### 2.4. **Spot outliers in the dataset.**\n",
    "(we will not remove outliers for this homework)."
   ]
  },
  {
   "cell_type": "code",
   "execution_count": null,
   "id": "f5aab45d-e608-4155-916a-a4ea68affcc4",
   "metadata": {
    "tags": []
   },
   "outputs": [],
   "source": [
    "# 2.4.1. Show boxplot of price in $ \n"
   ]
  },
  {
   "cell_type": "code",
   "execution_count": null,
   "id": "72df07aa-dfbd-41a9-95ce-671f66daed27",
   "metadata": {
    "tags": []
   },
   "outputs": [],
   "source": [
    "# 2.4.2 Show the maximum price in $\n"
   ]
  },
  {
   "cell_type": "code",
   "execution_count": null,
   "id": "ab4b4c7d-0cc6-4e79-9ea0-f51124e1b509",
   "metadata": {
    "tags": []
   },
   "outputs": [],
   "source": [
    "# 2.4.3 Show a boxplot for minimum_nights\n"
   ]
  },
  {
   "cell_type": "code",
   "execution_count": null,
   "id": "5dd14340-b802-46fd-8098-66e43c345753",
   "metadata": {
    "tags": []
   },
   "outputs": [],
   "source": [
    "# 2.4.4 Show a boxplot for Rating\n"
   ]
  },
  {
   "cell_type": "code",
   "execution_count": null,
   "id": "aaa4e4a7-d9a7-42ab-aa4b-f8d167ce3d85",
   "metadata": {
    "tags": []
   },
   "outputs": [],
   "source": [
    "# 2.4.5 Define a function to drop outliers beyond a specific multiplier of the IQR.\n"
   ]
  },
  {
   "cell_type": "code",
   "execution_count": null,
   "id": "3707791b-771a-4c4d-b355-3d2778883d7c",
   "metadata": {
    "tags": []
   },
   "outputs": [],
   "source": [
    "# 2.4.6 Find outliers for 'price in $', 'minimum_nights', and 'Rating' using the standard multiplier (1.5)\n"
   ]
  },
  {
   "cell_type": "code",
   "execution_count": null,
   "id": "12eea4f0-c061-434c-b27e-3d7897a89d22",
   "metadata": {
    "tags": []
   },
   "outputs": [],
   "source": [
    "# 2.4.7 Display the count of outliers in each selected column\n"
   ]
  },
  {
   "cell_type": "code",
   "execution_count": null,
   "id": "8bd6997d-bbb5-4361-a4a2-9f983fe47685",
   "metadata": {
    "tags": []
   },
   "outputs": [],
   "source": [
    "# 2.4.8 Find outliers for the same column using a multiplier of 3.\n"
   ]
  },
  {
   "cell_type": "code",
   "execution_count": null,
   "id": "f1988f3c",
   "metadata": {},
   "outputs": [],
   "source": [
    "# 2.4.9 Display the new count of outliers in each selected column\n"
   ]
  },
  {
   "cell_type": "raw",
   "id": "6bb49add",
   "metadata": {},
   "source": [
    "2.4.10 What do you think should be done with the outliers for each of the columns?\n",
    "(You are not required to actually remove them for this Homework).\n",
    "\n",
    "price in $:\n",
    "\n",
    "minimum_nights:\n",
    "\n",
    "Rating:\n"
   ]
  },
  {
   "cell_type": "markdown",
   "id": "a8144c46-0c57-411e-a3c7-d15b4fee4f7a",
   "metadata": {},
   "source": [
    "### 2.5. **Compute the Average Price for Each Type of Listing.**"
   ]
  },
  {
   "cell_type": "code",
   "execution_count": null,
   "id": "a7cced60-c5ad-4567-99aa-251076ccc1ba",
   "metadata": {
    "tags": []
   },
   "outputs": [],
   "source": [
    "# 2.5.1 Group the data by 'room_type' and calculate the average price for each type\n"
   ]
  },
  {
   "cell_type": "code",
   "execution_count": null,
   "id": "03510d93-19f3-48ec-9f1f-d84e0148fb79",
   "metadata": {
    "tags": []
   },
   "outputs": [],
   "source": [
    "# 2.5.2 Plot and display the average price for each room type\n"
   ]
  },
  {
   "cell_type": "markdown",
   "id": "27dc4a6d",
   "metadata": {},
   "source": [
    "### 2.6. **How Many Listings Are There for Each Unique 'Apartment Type'?**"
   ]
  },
  {
   "cell_type": "code",
   "execution_count": null,
   "id": "52a47b7a-0f56-4d02-98a5-82eb5ec643b6",
   "metadata": {
    "tags": []
   },
   "outputs": [],
   "source": [
    "# 2.6.1 Count the frequency of each unique 'Apartment_type'\n"
   ]
  },
  {
   "cell_type": "code",
   "execution_count": null,
   "id": "aa3171de-3e64-424b-8e3f-d0d58fee3ebe",
   "metadata": {
    "tags": []
   },
   "outputs": [],
   "source": [
    "# 2.6.2 Plot the frequency distribution of 'Apartment_type'\n"
   ]
  },
  {
   "cell_type": "code",
   "execution_count": null,
   "id": "4b4521c8",
   "metadata": {
    "tags": []
   },
   "outputs": [],
   "source": [
    "# 2.6.3. Find, Plot, and Display the top 10 most common apartment types\n"
   ]
  },
  {
   "cell_type": "code",
   "execution_count": null,
   "id": "4d8d7fd8-c71e-4dd2-9126-26966aed8e98",
   "metadata": {},
   "outputs": [],
   "source": [
    "# 2.6.4 Find, Plot, and Display the bottom 5 least common apartment types"
   ]
  },
  {
   "cell_type": "markdown",
   "id": "e5400d3c",
   "metadata": {},
   "source": [
    "### 2.7. **Identify the Top 5 Neighbourhoods with the Highest Average Listing Prices.**"
   ]
  },
  {
   "cell_type": "code",
   "execution_count": null,
   "id": "0c573356-e266-4550-8cb7-895afacd1efc",
   "metadata": {
    "tags": []
   },
   "outputs": [],
   "source": [
    "# 2.7.1 Find the top 5 most expensive neighbourhoods based on average price\n"
   ]
  },
  {
   "cell_type": "code",
   "execution_count": null,
   "id": "606edc4e",
   "metadata": {},
   "outputs": [],
   "source": [
    "# 2.7.2. Plot and display the top 5 most expensive neighbourhoods\n"
   ]
  }
 ],
 "metadata": {
  "kernelspec": {
   "display_name": "Python 3 (ipykernel)",
   "language": "python",
   "name": "python3"
  },
  "language_info": {
   "codemirror_mode": {
    "name": "ipython",
    "version": 3
   },
   "file_extension": ".py",
   "mimetype": "text/x-python",
   "name": "python",
   "nbconvert_exporter": "python",
   "pygments_lexer": "ipython3",
   "version": "3.12.3"
  }
 },
 "nbformat": 4,
 "nbformat_minor": 5
}
