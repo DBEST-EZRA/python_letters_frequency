{
 "cells": [
  {
   "cell_type": "code",
   "execution_count": 1,
   "id": "3a894c5d-b615-4930-95af-812802b337ab",
   "metadata": {},
   "outputs": [],
   "source": [
    "def make_a_decision(prompt, options):\n",
    "    while True:\n",
    "        print(prompt)\n",
    "        for index, option in enumerate(options, 1):\n",
    "            print(f\"{index}. {option}\")\n",
    "        try:\n",
    "            your_choice = int(input(\"Select an option \"))\n",
    "            if 1 <= your_choice <= len(options):\n",
    "                return options[your_choice - 1]\n",
    "        except ValueError:\n",
    "            print(\"Your choice is not valid! \")"
   ]
  },
  {
   "cell_type": "code",
   "execution_count": 2,
   "id": "489dfccf-6a30-4a97-b825-74b1144863f7",
   "metadata": {},
   "outputs": [],
   "source": [
    "def first_option():\n",
    "    first_decision = make_a_decision(\"What do you do when you find a diverging road\", [\"Go to the left\", \"Go to the right\"])\n",
    "    if first_decision == \"Go left\":\n",
    "        print(\"Ahead of you there is a pond.\")\n",
    "        second_decision = make_a_decision(\"Do you swim across or walk alongside?\", [\"Swim across\", \"Walk alongside the pond\"])\n",
    "    else:\n",
    "        print(\"You enter a fruit yard\")\n",
    "        second_decision = make_a_decision(\"Do you pick a fruit or keep exploring?\", [\"Pick a fruit\", \"Keep exploring\"])\n",
    "    return first_decision, second_decision"
   ]
  },
  {
   "cell_type": "code",
   "execution_count": 3,
   "id": "99001070-57b4-41d6-9154-caebdc018232",
   "metadata": {},
   "outputs": [],
   "source": [
    "def second_option():\n",
    "    decision3 = make_a_decision(\"You hear a lion roar, do you hide or ignore it?\", [\"Hide\", \"Ignore the sound\"])\n",
    "    return decision3"
   ]
  },
  {
   "cell_type": "code",
   "execution_count": 4,
   "id": "e1fb1468-ecd8-4ef7-9fb7-40e3e6365b88",
   "metadata": {},
   "outputs": [],
   "source": [
    "def final_option():\n",
    "    decision4 = make_a_decision(\"You find an abandoned pet. What do you do?\", [\"Take it Home\", \"Leave it there\"])\n",
    "    if decision4 == \"Take it Home\":\n",
    "        print(\"You have a kind heart buddy\")\n",
    "    else:\n",
    "        print(\"You leave it there, keep exploring\")\n",
    "    return decision4"
   ]
  },
  {
   "cell_type": "code",
   "execution_count": 5,
   "id": "4244c197-1ace-4dd6-bb16-a3937721c966",
   "metadata": {},
   "outputs": [],
   "source": [
    "def game_loop():\n",
    "    print(\"Its play time\")\n",
    "    first_decision, second_decision = first_option()\n",
    "    third_decision = second_option()\n",
    "    fourth_decision = final_option()\n",
    "    print(f\"This is a summary of your choices: {first_decision}, {second_decision}, {third_decision}, {fourth_decision}\")"
   ]
  },
  {
   "cell_type": "code",
   "execution_count": 6,
   "id": "9266bb8c-d9ab-4df8-8fc5-d93173cd71c7",
   "metadata": {},
   "outputs": [
    {
     "name": "stdout",
     "output_type": "stream",
     "text": [
      "Its play time\n",
      "What do you do when you find a diverging road\n",
      "1. Go to the left\n",
      "2. Go to the right\n"
     ]
    },
    {
     "name": "stdin",
     "output_type": "stream",
     "text": [
      "Select an option  1\n"
     ]
    },
    {
     "name": "stdout",
     "output_type": "stream",
     "text": [
      "You enter a fruit yard\n",
      "Do you pick a fruit or keep exploring?\n",
      "1. Pick a fruit\n",
      "2. Keep exploring\n"
     ]
    },
    {
     "name": "stdin",
     "output_type": "stream",
     "text": [
      "Select an option  1\n"
     ]
    },
    {
     "name": "stdout",
     "output_type": "stream",
     "text": [
      "You hear a lion roar, do you hide or ignore it?\n",
      "1. Hide\n",
      "2. Ignore the sound\n"
     ]
    },
    {
     "name": "stdin",
     "output_type": "stream",
     "text": [
      "Select an option  1\n"
     ]
    },
    {
     "name": "stdout",
     "output_type": "stream",
     "text": [
      "You find an abandoned pet. What do you do?\n",
      "1. Take it Home\n",
      "2. Leave it there\n"
     ]
    },
    {
     "name": "stdin",
     "output_type": "stream",
     "text": [
      "Select an option  1\n"
     ]
    },
    {
     "name": "stdout",
     "output_type": "stream",
     "text": [
      "You have a kind heart buddy\n",
      "This is a summary of your choices: Go to the left, Pick a fruit, Hide, Take it Home\n"
     ]
    },
    {
     "name": "stdin",
     "output_type": "stream",
     "text": [
      "Replay? (yes/no):  no\n"
     ]
    },
    {
     "name": "stdout",
     "output_type": "stream",
     "text": [
      "Thank you for participating\n"
     ]
    }
   ],
   "source": [
    "def main():\n",
    "    while True:\n",
    "        game_loop()\n",
    "        replay = input(\"Replay? (yes/no): \").lower()\n",
    "        if replay == \"no\":\n",
    "            print(\"Thank you for participating\")\n",
    "            break\n",
    "        elif replay == \"yes\":\n",
    "            continue\n",
    "        else:\n",
    "            print(\"invalid input\")\n",
    "main()"
   ]
  },
  {
   "cell_type": "code",
   "execution_count": null,
   "id": "42cfa0d8-c7b5-4e98-9339-07892f57ae76",
   "metadata": {},
   "outputs": [],
   "source": []
  }
 ],
 "metadata": {
  "kernelspec": {
   "display_name": "Python 3 (ipykernel)",
   "language": "python",
   "name": "python3"
  },
  "language_info": {
   "codemirror_mode": {
    "name": "ipython",
    "version": 3
   },
   "file_extension": ".py",
   "mimetype": "text/x-python",
   "name": "python",
   "nbconvert_exporter": "python",
   "pygments_lexer": "ipython3",
   "version": "3.11.1"
  }
 },
 "nbformat": 4,
 "nbformat_minor": 5
}
